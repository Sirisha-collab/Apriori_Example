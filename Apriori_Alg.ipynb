{
 "cells": [
  {
   "cell_type": "markdown",
   "metadata": {},
   "source": [
    "## Import Library"
   ]
  },
  {
   "cell_type": "code",
   "execution_count": 3,
   "metadata": {},
   "outputs": [],
   "source": [
    "import pandas as pd"
   ]
  },
  {
   "cell_type": "markdown",
   "metadata": {},
   "source": [
    "### To install mlxtend- ML extensions is a Python library of useful tools for the day-to-day data science tasks."
   ]
  },
  {
   "cell_type": "code",
   "execution_count": 5,
   "metadata": {},
   "outputs": [],
   "source": [
    "import sys"
   ]
  },
  {
   "cell_type": "code",
   "execution_count": 4,
   "metadata": {},
   "outputs": [
    {
     "name": "stdout",
     "output_type": "stream",
     "text": [
      "Requirement already satisfied: mlxtend in c:\\users\\sivaji\\appdata\\roaming\\python\\python37\\site-packages (0.18.0)\n",
      "Requirement already satisfied: scikit-learn>=0.20.3 in d:\\users\\sivaji\\anaconda3\\lib\\site-packages (from mlxtend) (0.21.1)\n",
      "Requirement already satisfied: joblib>=0.13.2 in d:\\users\\sivaji\\anaconda3\\lib\\site-packages (from mlxtend) (0.13.2)\n",
      "Requirement already satisfied: pandas>=0.24.2 in d:\\users\\sivaji\\anaconda3\\lib\\site-packages (from mlxtend) (0.25.1)\n",
      "Requirement already satisfied: setuptools in d:\\users\\sivaji\\anaconda3\\lib\\site-packages (from mlxtend) (41.4.0)\n",
      "Requirement already satisfied: numpy>=1.16.2 in d:\\users\\sivaji\\anaconda3\\lib\\site-packages (from mlxtend) (1.16.5)\n",
      "Requirement already satisfied: matplotlib>=3.0.0 in d:\\users\\sivaji\\anaconda3\\lib\\site-packages (from mlxtend) (3.1.1)\n",
      "Requirement already satisfied: scipy>=1.2.1 in d:\\users\\sivaji\\anaconda3\\lib\\site-packages (from mlxtend) (1.3.1)\n",
      "Requirement already satisfied: pytz>=2017.2 in d:\\users\\sivaji\\anaconda3\\lib\\site-packages (from pandas>=0.24.2->mlxtend) (2019.3)\n",
      "Requirement already satisfied: python-dateutil>=2.6.1 in d:\\users\\sivaji\\anaconda3\\lib\\site-packages (from pandas>=0.24.2->mlxtend) (2.8.0)\n",
      "Requirement already satisfied: cycler>=0.10 in d:\\users\\sivaji\\anaconda3\\lib\\site-packages (from matplotlib>=3.0.0->mlxtend) (0.10.0)\n",
      "Requirement already satisfied: kiwisolver>=1.0.1 in d:\\users\\sivaji\\anaconda3\\lib\\site-packages (from matplotlib>=3.0.0->mlxtend) (1.1.0)\n",
      "Requirement already satisfied: pyparsing!=2.0.4,!=2.1.2,!=2.1.6,>=2.0.1 in d:\\users\\sivaji\\anaconda3\\lib\\site-packages (from matplotlib>=3.0.0->mlxtend) (2.4.2)\n",
      "Requirement already satisfied: six>=1.5 in d:\\users\\sivaji\\anaconda3\\lib\\site-packages (from python-dateutil>=2.6.1->pandas>=0.24.2->mlxtend) (1.12.0)\n",
      "Note: you may need to restart the kernel to use updated packages.\n"
     ]
    }
   ],
   "source": [
    "pip install mlxtend --user"
   ]
  },
  {
   "cell_type": "code",
   "execution_count": 6,
   "metadata": {},
   "outputs": [],
   "source": [
    "from mlxtend.preprocessing import TransactionEncoder\n",
    "from mlxtend.frequent_patterns import apriori\n",
    "from mlxtend.frequent_patterns import association_rules"
   ]
  },
  {
   "cell_type": "code",
   "execution_count": 12,
   "metadata": {},
   "outputs": [],
   "source": [
    "# Insert data in text or else type information"
   ]
  },
  {
   "cell_type": "code",
   "execution_count": 7,
   "metadata": {},
   "outputs": [],
   "source": [
    "info = open(\"D:/Pandas/data.txt\",'r')\n",
    "data = info.read()\n",
    "dataset=[]\n",
    "data = data.split(',')\n",
    "for values in data:\n",
    "    dataset.append(values.strip('\\n'))"
   ]
  },
  {
   "cell_type": "code",
   "execution_count": 8,
   "metadata": {},
   "outputs": [
    {
     "name": "stdout",
     "output_type": "stream",
     "text": [
      "[['Bread', 'Milk', 'Beer'], ['Bread', 'Diapers', 'Eggs'], ['Milk', 'Diapers', 'Beer', 'Cola'], ['Bread', 'Milk', 'Diapers', 'Beer'], ['Bread', 'Milk', 'Cola']]\n"
     ]
    }
   ],
   "source": [
    "dataset=[[\"Bread\", \"Milk\", \"Beer\"],\n",
    " [\"Bread\", \"Diapers\", \"Eggs\"],\n",
    " [\"Milk\", \"Diapers\", \"Beer\", \"Cola\"],\n",
    " [\"Bread\", \"Milk\", \"Diapers\", \"Beer\"],\n",
    " [\"Bread\", \"Milk\", \"Cola\"]]\n",
    "print(dataset)"
   ]
  },
  {
   "cell_type": "code",
   "execution_count": 14,
   "metadata": {},
   "outputs": [],
   "source": [
    "t=TransactionEncoder()\n",
    "t=t.fit(dataset)           # Reads unique values \n",
    "t_array=t.transform(dataset) # Converts array into a matrix\n",
    "df=pd.DataFrame(t_array, columns=t.columns_)"
   ]
  },
  {
   "cell_type": "code",
   "execution_count": 15,
   "metadata": {},
   "outputs": [
    {
     "data": {
      "text/html": [
       "<div>\n",
       "<style scoped>\n",
       "    .dataframe tbody tr th:only-of-type {\n",
       "        vertical-align: middle;\n",
       "    }\n",
       "\n",
       "    .dataframe tbody tr th {\n",
       "        vertical-align: top;\n",
       "    }\n",
       "\n",
       "    .dataframe thead th {\n",
       "        text-align: right;\n",
       "    }\n",
       "</style>\n",
       "<table border=\"1\" class=\"dataframe\">\n",
       "  <thead>\n",
       "    <tr style=\"text-align: right;\">\n",
       "      <th></th>\n",
       "      <th>support</th>\n",
       "      <th>itemsets</th>\n",
       "    </tr>\n",
       "  </thead>\n",
       "  <tbody>\n",
       "    <tr>\n",
       "      <td>0</td>\n",
       "      <td>0.6</td>\n",
       "      <td>(Beer)</td>\n",
       "    </tr>\n",
       "    <tr>\n",
       "      <td>1</td>\n",
       "      <td>0.8</td>\n",
       "      <td>(Bread)</td>\n",
       "    </tr>\n",
       "    <tr>\n",
       "      <td>2</td>\n",
       "      <td>0.6</td>\n",
       "      <td>(Diapers)</td>\n",
       "    </tr>\n",
       "    <tr>\n",
       "      <td>3</td>\n",
       "      <td>0.8</td>\n",
       "      <td>(Milk)</td>\n",
       "    </tr>\n",
       "    <tr>\n",
       "      <td>4</td>\n",
       "      <td>0.6</td>\n",
       "      <td>(Milk, Beer)</td>\n",
       "    </tr>\n",
       "    <tr>\n",
       "      <td>5</td>\n",
       "      <td>0.6</td>\n",
       "      <td>(Bread, Milk)</td>\n",
       "    </tr>\n",
       "  </tbody>\n",
       "</table>\n",
       "</div>"
      ],
      "text/plain": [
       "   support       itemsets\n",
       "0      0.6         (Beer)\n",
       "1      0.8        (Bread)\n",
       "2      0.6      (Diapers)\n",
       "3      0.8         (Milk)\n",
       "4      0.6   (Milk, Beer)\n",
       "5      0.6  (Bread, Milk)"
      ]
     },
     "execution_count": 15,
     "metadata": {},
     "output_type": "execute_result"
    }
   ],
   "source": [
    "frequent_items=apriori(df,min_support=0.6,use_colnames=True)\n",
    "frequent_items"
   ]
  },
  {
   "cell_type": "code",
   "execution_count": 11,
   "metadata": {},
   "outputs": [],
   "source": [
    "rules = association_rules(frequent_items,\n",
    "                         metric= 'confidence',\n",
    "                        min_threshold=0.5)"
   ]
  },
  {
   "cell_type": "code",
   "execution_count": 16,
   "metadata": {},
   "outputs": [],
   "source": [
    "def item():\n",
    "  print(\"Items available are-\", available)\n",
    "  print(\"Your cart contains\",cart)\n",
    "  buy=input(\"What do you want to buy? \\n Item:\")\n",
    "  buy=buy.title()\n",
    "  shop(buy)\n",
    "  print(\"--------------------------------\")"
   ]
  },
  {
   "cell_type": "code",
   "execution_count": 17,
   "metadata": {},
   "outputs": [],
   "source": [
    "def shop(buy):\n",
    "    if buy in available:\n",
    "        cart.append(buy)\n",
    "        available.remove(buy)\n",
    "        print(buy+\" is added to the list\")\n",
    "        cartitem=[buy]\n",
    "        rec=[list(x) for x in rules[rules['antecedents'].apply(lambda x: set(cartitem).issubset(set(x)))]['consequents']]\n",
    "        for values in rec:\n",
    "            for value in values:\n",
    "                if value in cart:\n",
    "                    rec.remove(values)\n",
    "        print(rec)\n",
    "        print(\"Recommended:\",rec)\n",
    "    elif buy in cart:\n",
    "      print(\"Item already in cart!\")\n",
    "      item()\n",
    "    elif buy =='Exit':\n",
    "        want_to_buy = False\n",
    "        print(\"You bought \",cart)\n",
    "        exit()\n",
    "        \n",
    "    else:\n",
    "        print(\"Item not in list\")\n",
    "        item()\n"
   ]
  },
  {
   "cell_type": "code",
   "execution_count": null,
   "metadata": {},
   "outputs": [
    {
     "name": "stdout",
     "output_type": "stream",
     "text": [
      "Items available are- ['Diapers', 'Milk', 'Cola', 'Bread', 'Beer', 'Eggs']\n",
      "Your cart contains []\n",
      "What do you want to buy? \n",
      " Item:Milk\n",
      "Milk is added to the list\n",
      "[['Beer'], ['Bread']]\n",
      "Recommended: [['Beer'], ['Bread']]\n",
      "--------------------------------\n",
      "Items available are- ['Diapers', 'Cola', 'Bread', 'Beer', 'Eggs']\n",
      "Your cart contains ['Milk']\n",
      "What do you want to buy? \n",
      " Item:Bread\n",
      "Bread is added to the list\n",
      "[]\n",
      "Recommended: []\n",
      "--------------------------------\n",
      "Items available are- ['Diapers', 'Cola', 'Beer', 'Eggs']\n",
      "Your cart contains ['Milk', 'Bread']\n",
      "What do you want to buy? \n",
      " Item:Eggs\n",
      "Eggs is added to the list\n",
      "[]\n",
      "Recommended: []\n",
      "--------------------------------\n",
      "Items available are- ['Diapers', 'Cola', 'Beer']\n",
      "Your cart contains ['Milk', 'Bread', 'Eggs']\n"
     ]
    }
   ],
   "source": [
    "available= ['Diapers', 'Milk', 'Cola', 'Bread', 'Beer', 'Eggs']\n",
    "cart=[]\n",
    "want_to_buy=True\n",
    "while(want_to_buy==True):\n",
    "    item()    \n",
    "    if available==[]:\n",
    "        print(\"You have bought the whole shop!!\")\n",
    "        want_to_buy=False"
   ]
  },
  {
   "cell_type": "code",
   "execution_count": null,
   "metadata": {},
   "outputs": [],
   "source": []
  }
 ],
 "metadata": {
  "kernelspec": {
   "display_name": "Python 3",
   "language": "python",
   "name": "python3"
  },
  "language_info": {
   "codemirror_mode": {
    "name": "ipython",
    "version": 3
   },
   "file_extension": ".py",
   "mimetype": "text/x-python",
   "name": "python",
   "nbconvert_exporter": "python",
   "pygments_lexer": "ipython3",
   "version": "3.7.4"
  }
 },
 "nbformat": 4,
 "nbformat_minor": 2
}
